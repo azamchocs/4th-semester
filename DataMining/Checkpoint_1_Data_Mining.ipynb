{
  "nbformat": 4,
  "nbformat_minor": 0,
  "metadata": {
    "colab": {
      "provenance": [],
      "authorship_tag": "ABX9TyNnfLahT0MbNOaIICBO4WLj",
      "include_colab_link": true
    },
    "kernelspec": {
      "name": "python3",
      "display_name": "Python 3"
    },
    "language_info": {
      "name": "python"
    }
  },
  "cells": [
    {
      "cell_type": "markdown",
      "metadata": {
        "id": "view-in-github",
        "colab_type": "text"
      },
      "source": [
        "<a href=\"https://colab.research.google.com/github/azamchocs/4th-semester/blob/main/Checkpoint_1_Data_Mining.ipynb\" target=\"_parent\"><img src=\"https://colab.research.google.com/assets/colab-badge.svg\" alt=\"Open In Colab\"/></a>"
      ]
    },
    {
      "cell_type": "markdown",
      "source": [
        "# Smartphone Central Processing Unit Performance benchmark.\n",
        "\n"
      ],
      "metadata": {
        "id": "c4EMkBDgWbpZ"
      }
    },
    {
      "cell_type": "markdown",
      "source": [],
      "metadata": {
        "id": "J5zQ-n_KfN7W"
      }
    },
    {
      "cell_type": "markdown",
      "source": [
        "## Business Understanding."
      ],
      "metadata": {
        "id": "KEdZ13wGa-dN"
      }
    },
    {
      "cell_type": "markdown",
      "source": [
        "### Business Objective.\n",
        "\n",
        "  The reasoning behind this business research is to compare all of the currently existing smartphone's Central Processing Unit by their score in specific performance/bench test on GeekBench, While also providing a comprehensive overview of the smartphone's CPU.\n",
        "\n",
        "### Assess Situation.\n",
        "\n",
        "  The situation that results in this research being started is due to lack of information that can be used to compare phone and as per the information provided by the data source.\n",
        "\n",
        "  ###### \"Benchmarks allow for easy comparison between multiple devices by scoring their performance on a standardized series of tests, and they are useful in many instances: When buying a new phone or tablet\"\n",
        "\n",
        "### Data Mining Goals\n",
        "\n",
        "  The ultimate objective of this data mining research is to provide predictive insights or recommendations to assist individuals in selecting smartphones that align with their preferences and requirements.\n",
        "\n",
        "### Project Plan\n",
        "\n",
        "   The project encompasses phases such as data collection, preprocessing, feature engineering, model development, and validation. By employing machine learning algorithms and evaluating model performance, the project seeks to generate actionable recommendations for smartphone selection, which will be documented and shared with stakeholders."
      ],
      "metadata": {
        "id": "yEwysVpkbICM"
      }
    }
  ]
}
